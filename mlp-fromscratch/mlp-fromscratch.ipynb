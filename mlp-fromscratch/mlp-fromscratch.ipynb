{
 "cells": [
  {
   "cell_type": "markdown",
   "metadata": {
    "id": "zKRPTXIwNwfQ"
   },
   "source": [
    "# Library"
   ]
  },
  {
   "cell_type": "code",
   "execution_count": 1,
   "metadata": {
    "colab": {
     "base_uri": "https://localhost:8080/"
    },
    "executionInfo": {
     "elapsed": 1367,
     "status": "ok",
     "timestamp": 1608125161238,
     "user": {
      "displayName": "Mukhlish Ghany",
      "photoUrl": "https://lh3.googleusercontent.com/a-/AOh14GgcCiC5ZrEN8nVzzekSp93Y6Xy8jjuotS-NQMVfBA=s64",
      "userId": "13681952602611334172"
     },
     "user_tz": -60
    },
    "id": "gcNclnyORGQR",
    "outputId": "803ff743-7c80-4f79-f737-2d338b34016e"
   },
   "outputs": [
    {
     "data": {
      "text/plain": [
       "<torch._C.Generator at 0x24f15f62a30>"
      ]
     },
     "execution_count": 1,
     "metadata": {},
     "output_type": "execute_result"
    }
   ],
   "source": [
    "#Pytorch library\n",
    "import torch\n",
    "import torch.nn as nn\n",
    "from torchvision import transforms\n",
    "\n",
    "import numpy as np\n",
    "import pandas as pd\n",
    "import matplotlib.pyplot as plt\n",
    "\n",
    "#Reproducible random\n",
    "torch.manual_seed(12345)"
   ]
  },
  {
   "cell_type": "markdown",
   "metadata": {
    "id": "m41Wdh5cNz4O"
   },
   "source": [
    "# Data preprocessing"
   ]
  },
  {
   "cell_type": "code",
   "execution_count": 2,
   "metadata": {
    "executionInfo": {
     "elapsed": 640,
     "status": "ok",
     "timestamp": 1608125166457,
     "user": {
      "displayName": "Mukhlish Ghany",
      "photoUrl": "https://lh3.googleusercontent.com/a-/AOh14GgcCiC5ZrEN8nVzzekSp93Y6Xy8jjuotS-NQMVfBA=s64",
      "userId": "13681952602611334172"
     },
     "user_tz": -60
    },
    "id": "jkRSbswOrBP3"
   },
   "outputs": [],
   "source": [
    "def normalize_dataset(x, y):\n",
    "  x_mean = torch.mean(x)\n",
    "  y_mean = torch.mean(y)\n",
    "  x_std = torch.std(x)\n",
    "  y_std = torch.std(y)\n",
    "  x = (x-torch.mean(x))/torch.std(x)\n",
    "  y = (y-torch.mean(y))/torch.std(y)\n",
    "  return x, y, x_mean, y_mean, x_std, y_std\n",
    "\n",
    "def normalize_input(x, x_mean, x_std):\n",
    "  return (x-x_mean)/x_std\n",
    "\n",
    "def denormalize_output(y, y_mean, y_std):\n",
    "  return y*y_std+y_mean\n",
    "\n",
    "def slice_dataset(x_dataset, y_dataset, n_train_percent):\n",
    "  data_size = len(x_dataset)\n",
    "  x_train = x_dataset[:int(data_size*n_train_percent)]\n",
    "  x_test = x_dataset[int(data_size*n_train_percent):]\n",
    "  y_train = y_dataset[:int(data_size*n_train_percent)]\n",
    "  y_test = y_dataset[int(data_size*n_train_percent):]\n",
    "  return x_train, y_train, x_test, y_test"
   ]
  },
  {
   "cell_type": "markdown",
   "metadata": {
    "id": "SObb8gH1KPqW"
   },
   "source": [
    "# power flow dataset"
   ]
  },
  {
   "cell_type": "code",
   "execution_count": 3,
   "metadata": {},
   "outputs": [],
   "source": [
    "df = pd.read_excel('dataset.xlsx')"
   ]
  },
  {
   "cell_type": "code",
   "execution_count": 4,
   "metadata": {
    "executionInfo": {
     "elapsed": 548,
     "status": "ok",
     "timestamp": 1608125174186,
     "user": {
      "displayName": "Mukhlish Ghany",
      "photoUrl": "https://lh3.googleusercontent.com/a-/AOh14GgcCiC5ZrEN8nVzzekSp93Y6Xy8jjuotS-NQMVfBA=s64",
      "userId": "13681952602611334172"
     },
     "user_tz": -60
    },
    "id": "TFGYD-PIX0oE"
   },
   "outputs": [],
   "source": [
    "dataset_length = len(df.index)\n",
    "\n",
    "x_raw, y_raw = [], []\n",
    "for i in range(dataset_length):\n",
    "  x_raw.append(df.iloc[i, 1:-6])\n",
    "  y_raw.append(df.iloc[i, -6:])\n",
    "\n",
    "x_raw = torch.tensor(x_raw, dtype=torch.float)\n",
    "y_raw = torch.tensor(y_raw, dtype=torch.float)"
   ]
  },
  {
   "cell_type": "code",
   "execution_count": 5,
   "metadata": {
    "executionInfo": {
     "elapsed": 582,
     "status": "ok",
     "timestamp": 1608125175439,
     "user": {
      "displayName": "Mukhlish Ghany",
      "photoUrl": "https://lh3.googleusercontent.com/a-/AOh14GgcCiC5ZrEN8nVzzekSp93Y6Xy8jjuotS-NQMVfBA=s64",
      "userId": "13681952602611334172"
     },
     "user_tz": -60
    },
    "id": "5RwVcho0-ZGb"
   },
   "outputs": [],
   "source": [
    "n_train_percent = 0.8\n",
    "x_raw_train, y_raw_train, x_raw_test, y_raw_test = slice_dataset(x_raw, y_raw, n_train_percent)\n",
    "\n",
    "x, y, x_mean, y_mean, x_std, y_std = normalize_dataset(x_raw, y_raw)\n",
    "x_train, y_train, x_test, y_test = slice_dataset(x, y, n_train_percent)"
   ]
  },
  {
   "cell_type": "markdown",
   "metadata": {
    "id": "fknB39zBclgT"
   },
   "source": [
    "# NN 1 hidden layer"
   ]
  },
  {
   "cell_type": "code",
   "execution_count": 6,
   "metadata": {
    "executionInfo": {
     "elapsed": 622,
     "status": "ok",
     "timestamp": 1608125177480,
     "user": {
      "displayName": "Mukhlish Ghany",
      "photoUrl": "https://lh3.googleusercontent.com/a-/AOh14GgcCiC5ZrEN8nVzzekSp93Y6Xy8jjuotS-NQMVfBA=s64",
      "userId": "13681952602611334172"
     },
     "user_tz": -60
    },
    "id": "1cn4LwIBckwt"
   },
   "outputs": [],
   "source": [
    "class NeuralNetwork1(nn.Module):\n",
    "  def __init__(self, **kwargs):\n",
    "    super(NeuralNetwork1, self).__init__()\n",
    "    self.input_size = kwargs.get('input_size', 12)  #number of input features\n",
    "    self.hidden_size = kwargs.get('hidden_size', 32) #number of hidden layer nodes\n",
    "    self.output_size = kwargs.get('output_size', 6) #number of output features\n",
    "\n",
    "    #xavier initialization\n",
    "    self.b1 = torch.randn(1)\n",
    "    self.w1 = torch.randn(self.input_size, self.hidden_size)*torch.sqrt(torch.tensor(2)/(self.input_size+self.hidden_size))\n",
    "    self.b2 = torch.randn(1)\n",
    "    self.w2 = torch.randn(self.hidden_size, self.output_size)*torch.sqrt(torch.tensor(2)/(self.hidden_size+self.output_size))\n",
    "\n",
    "    #learning rate\n",
    "    self.lr = kwargs.get('lr', 0.001)\n",
    "    #momentum\n",
    "    self.beta1 = kwargs.get('betas', [0.9, 0.999])[0]\n",
    "    self.Vdw1 = 0\n",
    "    self.Vdw2 = 0\n",
    "    #RMSprop\n",
    "    self.beta2 = kwargs.get('betas', [0.9, 0.999])[1]\n",
    "    self.Sdw1 = 0\n",
    "    self.Sdw2 = 0\n",
    "    self.epsilon = kwargs.get('eps', 1e-8)\n",
    "\n",
    "  def forward(self, x):\n",
    "    self.z1 = torch.matmul(x, self.w1) #unbiased\n",
    "    self.a1 = self.sigmoid(self.z1)\n",
    "    self.z2 = torch.matmul(self.a1, self.w2) #unbiased\n",
    "    self.a2 = self.linear(self.z2)\n",
    "    return self.a2\n",
    "\n",
    "  def backward(self, x, y):\n",
    "    #w2 backprop\n",
    "    self.dL_da2 = y - self.a2 #from L2 loss function\n",
    "    self.da2_dz2 = self.linear_prime(self.a2)\n",
    "    self.dL_dz2 = self.dL_da2*self.da2_dz2\n",
    "    self.dL_dw2 = torch.matmul(torch.t(self.a1), self.dL_dz2)\n",
    "    self.dL_db2 = torch.sum(self.dL_dz2)\n",
    "\n",
    "    #w1 backprop\n",
    "    self.dz2_da1 = self.w2\n",
    "    self.dL_da1 = torch.matmul(self.dL_dz2, torch.t(self.dz2_da1))\n",
    "    self.da1_dz1 = self.sigmoid_prime(self.a1)\n",
    "    self.dL_dz1 = self.dL_da1*self.da1_dz1\n",
    "    self.dL_dw1 = torch.matmul(torch.t(x), self.dL_dz1)\n",
    "    self.dL_db1 = torch.sum(self.dL_dz1)\n",
    "    \n",
    "    #gradient momentum\n",
    "    self.Vdw1 = self.beta1*self.Vdw1 + self.dL_dw1*(1-self.beta1)\n",
    "    self.Vdw2 = self.beta1*self.Vdw2 + self.dL_dw2*(1-self.beta1)\n",
    "\n",
    "    #gradient RMSprop\n",
    "    self.Sdw1 = self.beta2*self.Sdw1 + self.dL_dw1*self.dL_dw1*(1-self.beta2)\n",
    "    self.Sdw2 = self.beta2*self.Sdw2 + self.dL_dw2*self.dL_dw2*(1-self.beta2)\n",
    "\n",
    "    #adam optimizer parameter update\n",
    "    self.b1 += self.dL_db1\n",
    "    self.b2 += self.dL_db2\n",
    "\n",
    "    self.w1 += lr*self.Vdw1/(torch.sqrt(self.Sdw1)+self.epsilon)\n",
    "    self.w2 += lr*self.Vdw2/(torch.sqrt(self.Sdw2)+self.epsilon)\n",
    "    \n",
    "  def linear(self, x):\n",
    "   return x\n",
    "\n",
    "  def linear_prime(self, x):\n",
    "   return torch.tensor(1)\n",
    "\n",
    "  def relu(self, x):\n",
    "   return torch.maximum(torch.tensor(0),x)\n",
    "\n",
    "  def relu_prime(self, x):\n",
    "    return (x > 0)*1\n",
    "\n",
    "  def sigmoid(self, x):\n",
    "    return 1/(1+torch.exp(-x))\n",
    "\n",
    "  def sigmoid_prime(self, x):\n",
    "    return x*(1-x)\n",
    "  \n",
    "  def tanh(self, x):\n",
    "    return torch.tanh(x)\n",
    "\n",
    "  def tanh_prime(self, x):\n",
    "    return 1-(torch.tanh(x)**2)\n",
    "  \n",
    "  def save_weights(self, model):\n",
    "    torch.save(model, \"model\")"
   ]
  },
  {
   "cell_type": "code",
   "execution_count": 7,
   "metadata": {
    "colab": {
     "base_uri": "https://localhost:8080/"
    },
    "executionInfo": {
     "elapsed": 1320,
     "status": "ok",
     "timestamp": 1608125251748,
     "user": {
      "displayName": "Mukhlish Ghany",
      "photoUrl": "https://lh3.googleusercontent.com/a-/AOh14GgcCiC5ZrEN8nVzzekSp93Y6Xy8jjuotS-NQMVfBA=s64",
      "userId": "13681952602611334172"
     },
     "user_tz": -60
    },
    "id": "WlTvoVwmc11o",
    "outputId": "64dc979b-8b46-4584-d52c-2f1fd62d8918"
   },
   "outputs": [
    {
     "name": "stdout",
     "output_type": "stream",
     "text": [
      "epoch #0 train loss: 0.8494634032249451 test loss: 0.588303804397583\n",
      "epoch #300 train loss: 0.0024580536410212517 test loss: 0.0018070799997076392\n",
      "epoch #600 train loss: 0.0005168029456399381 test loss: 0.0005668202647939324\n",
      "epoch #900 train loss: 0.00030307407723739743 test loss: 0.0003696093917824328\n",
      "epoch #1200 train loss: 0.00022262657876126468 test loss: 0.00030041797435842454\n",
      "epoch #1500 train loss: 0.00016103578673209995 test loss: 0.0002400452212896198\n",
      "epoch #1800 train loss: 0.00011176605767104775 test loss: 0.0001830482651712373\n",
      "epoch #2100 train loss: 7.374033884843811e-05 test loss: 0.00013061870413366705\n",
      "epoch #2400 train loss: 4.597279621521011e-05 test loss: 8.550196071155369e-05\n",
      "epoch #2700 train loss: 2.7037383915740065e-05 test loss: 5.03901501360815e-05\n",
      "epoch #3000 train loss: 1.523577157058753e-05 test loss: 2.6478219297132455e-05\n"
     ]
    }
   ],
   "source": [
    "input_size = 12\n",
    "hidden_size = 16\n",
    "output_size = 6\n",
    "lr = 0.005\n",
    "betas=[0.9, 0.999]\n",
    "\n",
    "model = NeuralNetwork1(input_size=input_size, hidden_size=hidden_size, output_size=output_size, lr=lr, betas=betas)\n",
    "\n",
    "train_loss_list, test_loss_list = [], []\n",
    "\n",
    "for i in range(3001):\n",
    "  y_train_prediction = model.forward(x_train)\n",
    "  train_loss = torch.mean((y_train - y_train_prediction)**2).detach().item()\n",
    "  model.backward(x_train, y_train)\n",
    "  train_loss_list.append(train_loss)\n",
    "    \n",
    "  y_test_prediction = model(x_test)\n",
    "  test_loss = torch.mean((y_test - y_test_prediction)**2).detach().item()\n",
    "  test_loss_list.append(test_loss)\n",
    "    \n",
    "  if (i % 300) == 0:\n",
    "    print(\"epoch #\" + str(i) + \" train loss: \" + str(train_loss) + \" test loss: \" + str(test_loss))\n",
    "  \n",
    "model.save_weights(model)"
   ]
  },
  {
   "cell_type": "code",
   "execution_count": 8,
   "metadata": {},
   "outputs": [
    {
     "data": {
      "image/png": "[encoded data removed]",
      "text/plain": [
       "<Figure size 432x288 with 1 Axes>"
      ]
     },
     "metadata": {
      "needs_background": "light"
     },
     "output_type": "display_data"
    }
   ],
   "source": [
    "plt.title('Train and Test loss error')\n",
    "plt.plot(train_loss_list, label=\"train loss\")\n",
    "plt.plot(test_loss_list, label=\"test loss\")\n",
    "plt.yscale('log')\n",
    "plt.xlabel(\"# Epoch\")\n",
    "plt.ylabel(\"Loss\")\n",
    "plt.legend(loc='best')\n",
    "plt.show()"
   ]
  },
  {
   "cell_type": "code",
   "execution_count": 9,
   "metadata": {
    "colab": {
     "base_uri": "https://localhost:8080/"
    },
    "executionInfo": {
     "elapsed": 768,
     "status": "ok",
     "timestamp": 1608125254695,
     "user": {
      "displayName": "Mukhlish Ghany",
      "photoUrl": "https://lh3.googleusercontent.com/a-/AOh14GgcCiC5ZrEN8nVzzekSp93Y6Xy8jjuotS-NQMVfBA=s64",
      "userId": "13681952602611334172"
     },
     "user_tz": -60
    },
    "id": "it8o53H-wlgP",
    "outputId": "6bf8ab9c-350e-4e1a-8de8-d30bc4b92dfd"
   },
   "outputs": [
    {
     "name": "stdout",
     "output_type": "stream",
     "text": [
      "train output: \n",
      "tensor([[ 68.1540,  22.9530, 163.0000,   5.9100,  85.0000, -11.2270],\n",
      "        [ 65.1980,  28.6150, 163.0000,   6.4940,  85.0000, -11.0550],\n",
      "        [ 73.8900,  24.5100, 163.0000,   6.4930,  85.0000,  -9.9470]])\n",
      "train output prediction: \n",
      "tensor([[ 68.2284,  23.2934, 162.9433,   5.9651,  84.9701, -11.3658],\n",
      "        [ 65.4266,  28.6715, 163.0745,   6.4951,  85.0066, -11.0028],\n",
      "        [ 73.9676,  24.5250, 162.8407,   6.4765,  85.0190, -10.1270]])\n",
      "train loss: 1.5212584912660532e-05\n",
      "----------------------------------------------------------------------\n",
      "test output: \n",
      "tensor([[ 59.7800,  27.1710, 163.0000,   5.1010,  85.0000, -12.4110],\n",
      "        [ 84.1720,  25.8880, 163.0000,   5.7580,  85.0000, -11.0430],\n",
      "        [ 63.1330,  26.1500, 163.0000,   6.5280,  85.0000, -10.5690]])\n",
      "test output prediction: \n",
      "tensor([[ 59.8714,  27.1467, 163.0831,   5.0483,  84.9659, -12.3631],\n",
      "        [ 84.1759,  25.6720, 162.8800,   5.7310,  85.0256, -11.1402],\n",
      "        [ 63.2826,  26.3590, 163.1924,   6.6005,  85.0115, -10.4944]])\n",
      "test loss: 2.6478219297132455e-05\n"
     ]
    }
   ],
   "source": [
    "y_train_prediction = model.forward(x_train)\n",
    "train_loss = torch.mean((y_train - y_train_prediction)**2).detach().item()\n",
    "\n",
    "print(\"train output: \\n\" + str(denormalize_output(y_train, y_mean, y_std)[:3]))\n",
    "print(\"train output prediction: \\n\" + str(denormalize_output(y_train_prediction, y_mean, y_std)[:3]))\n",
    "print(\"train loss: \" + str(train_loss))\n",
    "\n",
    "print(\"----------------------------------------------------------------------\")\n",
    "\n",
    "y_test_prediction = model.forward(x_test)\n",
    "test_loss = torch.mean((y_test - y_test_prediction)**2).detach().item()\n",
    "\n",
    "print(\"test output: \\n\" + str(denormalize_output(y_test, y_mean, y_std)[-3:]))\n",
    "print(\"test output prediction: \\n\" + str(denormalize_output(y_test_prediction, y_mean, y_std)[-3:]))\n",
    "print(\"test loss: \" + str(test_loss))"
   ]
  },
  {
   "cell_type": "markdown",
   "metadata": {
    "id": "Y3kB-mYEJ-Q0"
   },
   "source": [
    "# NN 2 hidden layer"
   ]
  },
  {
   "cell_type": "code",
   "execution_count": 12,
   "metadata": {
    "executionInfo": {
     "elapsed": 596,
     "status": "ok",
     "timestamp": 1608125318524,
     "user": {
      "displayName": "Mukhlish Ghany",
      "photoUrl": "https://lh3.googleusercontent.com/a-/AOh14GgcCiC5ZrEN8nVzzekSp93Y6Xy8jjuotS-NQMVfBA=s64",
      "userId": "13681952602611334172"
     },
     "user_tz": -60
    },
    "id": "OdaTamIMLXjJ"
   },
   "outputs": [],
   "source": [
    "class NeuralNetwork2(nn.Module):\n",
    "  def __init__(self, **kwargs):\n",
    "    super(NeuralNetwork2, self).__init__()\n",
    "    self.input_size = kwargs.get('input_size', 12)  #number of input features\n",
    "    self.hidden_size_1 = kwargs.get('hidden_size_1', 64) #number of hidden layer 1 nodes\n",
    "    self.hidden_size_2 = kwargs.get('hidden_size_2', 32) #number of hidden layer 2 nodes\n",
    "    self.output_size = kwargs.get('output_size', 6) #number of output features\n",
    "\n",
    "    #xavier initialization\n",
    "    self.b1 = torch.randn(1)\n",
    "    self.w1 = torch.randn(self.input_size, self.hidden_size_1)*torch.sqrt(torch.tensor(2)/(self.input_size+self.hidden_size_1))\n",
    "    self.b2 = torch.randn(1)\n",
    "    self.w2 = torch.randn(self.hidden_size_1, self.hidden_size_2)*torch.sqrt(torch.tensor(2)/(self.hidden_size_1+self.hidden_size_2))\n",
    "    self.b3 = torch.randn(1)\n",
    "    self.w3 = torch.randn(self.hidden_size_2, self.output_size)*torch.sqrt(torch.tensor(2)/(self.hidden_size_2+self.output_size))\n",
    "\n",
    "    self.lr = lr\n",
    "    self.beta1 = 0.9\n",
    "    self.Vdw1 = 0\n",
    "    self.beta2 = 0.9\n",
    "    self.Vdw2 = 0\n",
    "    self.beta3 = 0.9\n",
    "    self.Vdw3 = 0\n",
    "\n",
    "    #learning rate\n",
    "    self.lr = kwargs.get('lr', 0.001)\n",
    "    #momentum\n",
    "    self.beta1 = kwargs.get('betas', [0.9, 0.999])[0]\n",
    "    self.Vdw1 = 0\n",
    "    self.Vdw2 = 0\n",
    "    self.Vdw3 = 0\n",
    "    #RMSprop\n",
    "    self.beta2 = kwargs.get('betas', [0.9, 0.999])[1]\n",
    "    self.Sdw1 = 0\n",
    "    self.Sdw2 = 0\n",
    "    self.Sdw3 = 0\n",
    "    self.epsilon = kwargs.get('eps', 1e-8)\n",
    "\n",
    "  def forward(self, x):\n",
    "    self.z1 = torch.matmul(x, self.w1)\n",
    "    self.a1 = self.sigmoid(self.z1)\n",
    "    self.z2 = torch.matmul(self.a1, self.w2)\n",
    "    self.a2 = self.sigmoid(self.z2)\n",
    "    self.z3 = torch.matmul(self.a2, self.w3)\n",
    "    self.a3 = self.linear(self.z3)\n",
    "    return self.a3\n",
    "  \n",
    "  def backward(self, x, y):\n",
    "    #w3 backprop\n",
    "    self.dL_da3 = y - self.a3 #from L2 loss function\n",
    "    self.da3_dz3 = self.linear_prime(self.a3)\n",
    "    self.dL_dz3 = self.dL_da3*self.da3_dz3\n",
    "    self.dL_dw3 = torch.matmul(torch.t(self.a2), self.dL_dz3)\n",
    "    self.dL_db3 = torch.sum(self.dL_dz3)\n",
    "\n",
    "    #w2 backprop\n",
    "    self.dz3_da2 = self.w3\n",
    "    self.dL_da2 = torch.matmul(self.dL_dz3, torch.t(self.dz3_da2))\n",
    "    self.da2_dz2 = self.sigmoid_prime(self.a2)\n",
    "    self.dL_dz2 = self.dL_da2*self.da2_dz2\n",
    "    self.dL_dw2 = torch.matmul(torch.t(self.a1), self.dL_dz2)\n",
    "    self.dL_db2 = torch.sum(self.dL_dz2)\n",
    "\n",
    "    #w1 backprop\n",
    "    self.dz2_da1 = self.w2\n",
    "    self.dL_da1 = torch.matmul(self.dL_dz2, torch.t(self.dz2_da1))\n",
    "    self.da1_dz1 = self.sigmoid_prime(self.a1)\n",
    "    self.dL_dz1 = self.dL_da1*self.da1_dz1\n",
    "    self.dL_dw1 = torch.matmul(torch.t(x), self.dL_dz1)\n",
    "    self.dL_db1 = torch.sum(self.dL_dz1)\n",
    "    \n",
    "    #gradient momentum\n",
    "    self.Vdw1 = self.beta1*self.Vdw1 + self.dL_dw1*(1-self.beta1)\n",
    "    self.Vdw2 = self.beta1*self.Vdw2 + self.dL_dw2*(1-self.beta1)\n",
    "    self.Vdw3 = self.beta1*self.Vdw3 + self.dL_dw3*(1-self.beta1)\n",
    "\n",
    "    #gradient RMSprop\n",
    "    self.Sdw1 = self.beta2*self.Sdw1 + self.dL_dw1*self.dL_dw1*(1-self.beta2)\n",
    "    self.Sdw2 = self.beta2*self.Sdw2 + self.dL_dw2*self.dL_dw2*(1-self.beta2)\n",
    "    self.Sdw3 = self.beta2*self.Sdw3 + self.dL_dw3*self.dL_dw3*(1-self.beta2)\n",
    "\n",
    "    #adam optimizer parameter update\n",
    "    self.b1 += self.dL_db1\n",
    "    self.b2 += self.dL_db2\n",
    "    self.b3 += self.dL_db3\n",
    "    self.w1 += lr*self.Vdw1/(torch.sqrt(self.Sdw1)+self.epsilon)\n",
    "    self.w2 += lr*self.Vdw2/(torch.sqrt(self.Sdw2)+self.epsilon)\n",
    "    self.w3 += lr*self.Vdw3/(torch.sqrt(self.Sdw3)+self.epsilon)\n",
    "    \n",
    "  def linear(self, x):\n",
    "   return x\n",
    "\n",
    "  def linear_prime(self, x):\n",
    "   return torch.tensor(1)\n",
    "\n",
    "  def relu(self, x):\n",
    "   return torch.maximum(torch.tensor(0),x)\n",
    "\n",
    "  def relu_prime(self, x):\n",
    "    return (x > 0)*1\n",
    "\n",
    "  def sigmoid(self, x):\n",
    "    return 1/(1+torch.exp(-x))\n",
    "\n",
    "  def sigmoid_prime(self, x):\n",
    "    return x*(1-x)\n",
    "\n",
    "  def tanh(self, x):\n",
    "    return torch.tanh(x)\n",
    "\n",
    "  def tanh_prime(self, x):\n",
    "    return 1-(torch.tanh(x)**2)\n",
    "  \n",
    "  def save_weights(self, model):\n",
    "    torch.save(model, \"model\")"
   ]
  },
  {
   "cell_type": "code",
   "execution_count": 13,
   "metadata": {
    "colab": {
     "base_uri": "https://localhost:8080/"
    },
    "executionInfo": {
     "elapsed": 1184,
     "status": "ok",
     "timestamp": 1608125332772,
     "user": {
      "displayName": "Mukhlish Ghany",
      "photoUrl": "https://lh3.googleusercontent.com/a-/AOh14GgcCiC5ZrEN8nVzzekSp93Y6Xy8jjuotS-NQMVfBA=s64",
      "userId": "13681952602611334172"
     },
     "user_tz": -60
    },
    "id": "x0Ei-AefBZn-",
    "outputId": "eea44fda-2bb2-4b3e-aa74-459e3184674e"
   },
   "outputs": [
    {
     "name": "stdout",
     "output_type": "stream",
     "text": [
      "epoch #0 train loss: 1.1924597024917603 test loss: 0.8066102862358093\n",
      "epoch #100 train loss: 0.006422047503292561 test loss: 0.004036979749798775\n",
      "epoch #200 train loss: 0.00635143369436264 test loss: 0.003993262071162462\n",
      "epoch #300 train loss: 0.006259326357394457 test loss: 0.003940497990697622\n",
      "epoch #400 train loss: 0.006093445234000683 test loss: 0.003840153804048896\n",
      "epoch #500 train loss: 0.005713101010769606 test loss: 0.003607475198805332\n",
      "epoch #600 train loss: 0.004740087781101465 test loss: 0.003031163476407528\n",
      "epoch #700 train loss: 0.0028130451682955027 test loss: 0.001967840129509568\n",
      "epoch #800 train loss: 0.001247687148861587 test loss: 0.0010469859698787332\n",
      "epoch #900 train loss: 0.000697065144777298 test loss: 0.0006369405891746283\n",
      "epoch #1000 train loss: 0.0005288263200782239 test loss: 0.0005222075851634145\n"
     ]
    }
   ],
   "source": [
    "input_size = 12\n",
    "hidden_size_1 = 32\n",
    "hidden_size_2 = 16\n",
    "output_size = 6\n",
    "lr = 0.005\n",
    "betas=[0.9, 0.999]\n",
    "\n",
    "model = NeuralNetwork2(input_size=input_size, hidden_size_1=hidden_size_1, hidden_size_2=hidden_size_2, \n",
    "                       output_size=output_size, lr=lr, betas=betas)\n",
    "\n",
    "train_loss_list, test_loss_list = [], []\n",
    "\n",
    "for i in range(1001):\n",
    "  y_train_prediction = model.forward(x_train)\n",
    "  train_loss = torch.mean((y_train - y_train_prediction)**2).detach().item()\n",
    "  model.backward(x_train, y_train)\n",
    "  train_loss_list.append(train_loss)\n",
    "    \n",
    "  y_test_prediction = model(x_test)\n",
    "  test_loss = torch.mean((y_test - y_test_prediction)**2).detach().item()\n",
    "  test_loss_list.append(test_loss)\n",
    "    \n",
    "  if (i % 100) == 0:\n",
    "    print(\"epoch #\" + str(i) + \" train loss: \" + str(train_loss) + \" test loss: \" + str(test_loss))\n",
    "  \n",
    "model.save_weights(model)"
   ]
  },
  {
   "cell_type": "code",
   "execution_count": 14,
   "metadata": {},
   "outputs": [
    {
     "data": {
      "image/png": "[encoded data removed]",
      "text/plain": [
       "<Figure size 432x288 with 1 Axes>"
      ]
     },
     "metadata": {
      "needs_background": "light"
     },
     "output_type": "display_data"
    }
   ],
   "source": [
    "plt.title('Train and Test loss error')\n",
    "plt.plot(train_loss_list, label=\"train loss\")\n",
    "plt.plot(test_loss_list, label=\"test loss\")\n",
    "plt.yscale('log')\n",
    "plt.xlabel(\"# Epoch\")\n",
    "plt.ylabel(\"Loss\")\n",
    "plt.legend(loc='best')\n",
    "plt.show()"
   ]
  },
  {
   "cell_type": "code",
   "execution_count": 15,
   "metadata": {
    "colab": {
     "base_uri": "https://localhost:8080/"
    },
    "executionInfo": {
     "elapsed": 506,
     "status": "ok",
     "timestamp": 1608125334699,
     "user": {
      "displayName": "Mukhlish Ghany",
      "photoUrl": "https://lh3.googleusercontent.com/a-/AOh14GgcCiC5ZrEN8nVzzekSp93Y6Xy8jjuotS-NQMVfBA=s64",
      "userId": "13681952602611334172"
     },
     "user_tz": -60
    },
    "id": "8bvy4iX8Bl9w",
    "outputId": "781a6eb3-60ff-4c54-bc09-ef86bdf283d4"
   },
   "outputs": [
    {
     "name": "stdout",
     "output_type": "stream",
     "text": [
      "train output: \n",
      "tensor([[ 68.1540,  22.9530, 163.0000,   5.9100,  85.0000, -11.2270],\n",
      "        [ 65.1980,  28.6150, 163.0000,   6.4940,  85.0000, -11.0550],\n",
      "        [ 73.8900,  24.5100, 163.0000,   6.4930,  85.0000,  -9.9470]])\n",
      "train output prediction: \n",
      "tensor([[ 68.3400,  27.2763, 162.7145,   6.3525,  84.9913, -10.7684],\n",
      "        [ 64.5621,  27.4540, 162.4737,   6.2498,  84.9882, -10.5467],\n",
      "        [ 74.1916,  26.9886, 163.1259,   6.5163,  85.0015, -11.1077]])\n",
      "train loss: 0.0005278937751427293\n",
      "----------------------------------------------------------------------\n",
      "test output: \n",
      "tensor([[ 59.7800,  27.1710, 163.0000,   5.1010,  85.0000, -12.4110],\n",
      "        [ 84.1720,  25.8880, 163.0000,   5.7580,  85.0000, -11.0430],\n",
      "        [ 63.1330,  26.1500, 163.0000,   6.5280,  85.0000, -10.5690]])\n",
      "test output prediction: \n",
      "tensor([[ 59.5241,  27.7029, 162.1145,   6.1081,  84.9793, -10.2555],\n",
      "        [ 84.4801,  26.4853, 163.8348,   6.8034,  85.0192, -11.7064],\n",
      "        [ 62.8716,  27.5352, 162.3645,   6.2038,  84.9856, -10.4475]])\n",
      "test loss: 0.0005222075851634145\n"
     ]
    }
   ],
   "source": [
    "y_train_prediction = model.forward(x_train)\n",
    "train_loss = torch.mean((y_train - y_train_prediction)**2).detach().item()\n",
    "\n",
    "print(\"train output: \\n\" + str(denormalize_output(y_train, y_mean, y_std)[:3]))\n",
    "print(\"train output prediction: \\n\" + str(denormalize_output(y_train_prediction, y_mean, y_std)[:3]))\n",
    "print(\"train loss: \" + str(train_loss))\n",
    "\n",
    "print(\"----------------------------------------------------------------------\")\n",
    "\n",
    "y_test_prediction = model.forward(x_test)\n",
    "test_loss = torch.mean((y_test - y_test_prediction)**2).detach().item()\n",
    "\n",
    "print(\"test output: \\n\" + str(denormalize_output(y_test, y_mean, y_std)[-3:]))\n",
    "print(\"test output prediction: \\n\" + str(denormalize_output(y_test_prediction, y_mean, y_std)[-3:]))\n",
    "print(\"test loss: \" + str(test_loss))"
   ]
  }
 ],
 "metadata": {
  "colab": {
   "authorship_tag": "ABX9TyOPr0owzjncvprNp4SF+NqI",
   "collapsed_sections": [],
   "name": "[NN Scratch] Regression 2 Layer.ipynb",
   "provenance": []
  },
  "kernelspec": {
   "display_name": "Python 3",
   "language": "python",
   "name": "python3"
  },
  "language_info": {
   "codemirror_mode": {
    "name": "ipython",
    "version": 3
   },
   "file_extension": ".py",
   "mimetype": "text/x-python",
   "name": "python",
   "nbconvert_exporter": "python",
   "pygments_lexer": "ipython3",
   "version": "3.8.3"
  }
 },
 "nbformat": 4,
 "nbformat_minor": 1
}
