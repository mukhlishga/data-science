{
 "cells": [
  {
   "cell_type": "markdown",
   "metadata": {
    "id": "WWJy9u9UnPZl"
   },
   "source": [
    "# Library"
   ]
  },
  {
   "cell_type": "code",
   "execution_count": 1,
   "metadata": {
    "colab": {
     "base_uri": "https://localhost:8080/"
    },
    "executionInfo": {
     "elapsed": 1483,
     "status": "ok",
     "timestamp": 1608125028881,
     "user": {
      "displayName": "Mukhlish Ghany",
      "photoUrl": "https://lh3.googleusercontent.com/a-/AOh14GgcCiC5ZrEN8nVzzekSp93Y6Xy8jjuotS-NQMVfBA=s64",
      "userId": "13681952602611334172"
     },
     "user_tz": -60
    },
    "id": "gcNclnyORGQR",
    "outputId": "6bf3b580-1cb8-438f-bdba-b57ba6f7b80e"
   },
   "outputs": [
    {
     "data": {
      "text/plain": [
       "<torch._C.Generator at 0x154f19c1a30>"
      ]
     },
     "execution_count": 1,
     "metadata": {},
     "output_type": "execute_result"
    }
   ],
   "source": [
    "#Pytorch library\n",
    "import torch\n",
    "import torch.nn as nn\n",
    "from torch import optim\n",
    "\n",
    "import numpy as np\n",
    "import pandas as pd\n",
    "import matplotlib.pyplot as plt\n",
    "\n",
    "#Reproducible random\n",
    "torch.manual_seed(12345)"
   ]
  },
  {
   "cell_type": "markdown",
   "metadata": {
    "id": "lDULOru2nS_n"
   },
   "source": [
    "# Data preprocessing"
   ]
  },
  {
   "cell_type": "code",
   "execution_count": 2,
   "metadata": {
    "executionInfo": {
     "elapsed": 948,
     "status": "ok",
     "timestamp": 1608125030314,
     "user": {
      "displayName": "Mukhlish Ghany",
      "photoUrl": "https://lh3.googleusercontent.com/a-/AOh14GgcCiC5ZrEN8nVzzekSp93Y6Xy8jjuotS-NQMVfBA=s64",
      "userId": "13681952602611334172"
     },
     "user_tz": -60
    },
    "id": "5lxco29RD42y"
   },
   "outputs": [],
   "source": [
    "def normalize_dataset(x, y):\n",
    "  x_mean = torch.mean(x)\n",
    "  y_mean = torch.mean(y)\n",
    "  x_std = torch.std(x)\n",
    "  y_std = torch.std(y)\n",
    "  x = (x-torch.mean(x))/torch.std(x)\n",
    "  y = (y-torch.mean(y))/torch.std(y)\n",
    "  return x, y, x_mean, y_mean, x_std, y_std\n",
    "\n",
    "def normalize_input(x, x_mean, x_std):\n",
    "  return (x-x_mean)/x_std\n",
    "\n",
    "def denormalize_output(y, y_mean, y_std):\n",
    "  return y*y_std+y_mean\n",
    "\n",
    "def slice_dataset(x_dataset, y_dataset, n_train_percent):\n",
    "  data_size = len(x_dataset)\n",
    "  x_train = x_dataset[:int(data_size*n_train_percent)]\n",
    "  x_test = x_dataset[int(data_size*n_train_percent):]\n",
    "  y_train = y_dataset[:int(data_size*n_train_percent)]\n",
    "  y_test = y_dataset[int(data_size*n_train_percent):]\n",
    "  return x_train, y_train, x_test, y_test"
   ]
  },
  {
   "cell_type": "markdown",
   "metadata": {
    "id": "SObb8gH1KPqW"
   },
   "source": [
    "# power flow dataset"
   ]
  },
  {
   "cell_type": "code",
   "execution_count": 3,
   "metadata": {
    "colab": {
     "base_uri": "https://localhost:8080/"
    },
    "executionInfo": {
     "elapsed": 2014,
     "status": "ok",
     "timestamp": 1608125041011,
     "user": {
      "displayName": "Mukhlish Ghany",
      "photoUrl": "https://lh3.googleusercontent.com/a-/AOh14GgcCiC5ZrEN8nVzzekSp93Y6Xy8jjuotS-NQMVfBA=s64",
      "userId": "13681952602611334172"
     },
     "user_tz": -60
    },
    "id": "9TX4Y4LRKO6t",
    "outputId": "8ac29f0b-e9f4-4d87-facd-95f5095117f1"
   },
   "outputs": [],
   "source": [
    "df = pd.read_excel('dataset.xlsx')"
   ]
  },
  {
   "cell_type": "code",
   "execution_count": 4,
   "metadata": {
    "executionInfo": {
     "elapsed": 829,
     "status": "ok",
     "timestamp": 1608125042281,
     "user": {
      "displayName": "Mukhlish Ghany",
      "photoUrl": "https://lh3.googleusercontent.com/a-/AOh14GgcCiC5ZrEN8nVzzekSp93Y6Xy8jjuotS-NQMVfBA=s64",
      "userId": "13681952602611334172"
     },
     "user_tz": -60
    },
    "id": "MKBgifE2YI03"
   },
   "outputs": [],
   "source": [
    "dataset_length = len(df.index)\n",
    "\n",
    "x_raw, y_raw = [], []\n",
    "for i in range(dataset_length):\n",
    "  x_raw.append(df.iloc[i, 1:-6])\n",
    "  y_raw.append(df.iloc[i, -6:])\n",
    "\n",
    "x_raw = torch.tensor(x_raw, dtype=torch.float)\n",
    "y_raw = torch.tensor(y_raw, dtype=torch.float)"
   ]
  },
  {
   "cell_type": "code",
   "execution_count": 5,
   "metadata": {
    "executionInfo": {
     "elapsed": 695,
     "status": "ok",
     "timestamp": 1608125044065,
     "user": {
      "displayName": "Mukhlish Ghany",
      "photoUrl": "https://lh3.googleusercontent.com/a-/AOh14GgcCiC5ZrEN8nVzzekSp93Y6Xy8jjuotS-NQMVfBA=s64",
      "userId": "13681952602611334172"
     },
     "user_tz": -60
    },
    "id": "9Ct7kFnZYgoy"
   },
   "outputs": [],
   "source": [
    "n_train_percent = 0.8\n",
    "x_raw_train, y_raw_train, x_raw_test, y_raw_test = slice_dataset(x_raw, y_raw, n_train_percent)\n",
    "\n",
    "x, y, x_mean, y_mean, x_std, y_std = normalize_dataset(x_raw, y_raw)\n",
    "\n",
    "x = torch.where(torch.isnan(x), torch.zeros_like(x), x)\n",
    "y = torch.where(torch.isnan(y), torch.zeros_like(y), y)\n",
    "\n",
    "x_train, y_train, x_test, y_test = slice_dataset(x, y, n_train_percent)"
   ]
  },
  {
   "cell_type": "markdown",
   "metadata": {
    "id": "Y3kB-mYEJ-Q0"
   },
   "source": [
    "# NN 1 layer"
   ]
  },
  {
   "cell_type": "code",
   "execution_count": 6,
   "metadata": {
    "colab": {
     "base_uri": "https://localhost:8080/"
    },
    "executionInfo": {
     "elapsed": 684,
     "status": "ok",
     "timestamp": 1608125046282,
     "user": {
      "displayName": "Mukhlish Ghany",
      "photoUrl": "https://lh3.googleusercontent.com/a-/AOh14GgcCiC5ZrEN8nVzzekSp93Y6Xy8jjuotS-NQMVfBA=s64",
      "userId": "13681952602611334172"
     },
     "user_tz": -60
    },
    "id": "8wGE5GzyHsRK",
    "outputId": "426d08cf-be87-4ba8-dc87-24c67e83b825"
   },
   "outputs": [
    {
     "name": "stdout",
     "output_type": "stream",
     "text": [
      "Sequential(\n",
      "  (0): Linear(in_features=12, out_features=16, bias=True)\n",
      "  (1): ReLU()\n",
      "  (2): Linear(in_features=16, out_features=6, bias=True)\n",
      ")\n"
     ]
    }
   ],
   "source": [
    "input_size = 12\n",
    "hidden_layer = 16\n",
    "output_size = 6\n",
    "\n",
    "model = nn.Sequential(\n",
    "    nn.Linear(input_size, hidden_layer),\n",
    "    nn.ReLU(),\n",
    "    nn.Linear(hidden_layer, output_size)\n",
    ")\n",
    "\n",
    "print(model)\n",
    "criterion = nn.MSELoss()\n",
    "optimizer = optim.Adam(model.parameters(), lr=0.005)"
   ]
  },
  {
   "cell_type": "code",
   "execution_count": 7,
   "metadata": {
    "colab": {
     "base_uri": "https://localhost:8080/"
    },
    "executionInfo": {
     "elapsed": 1412,
     "status": "ok",
     "timestamp": 1608125058282,
     "user": {
      "displayName": "Mukhlish Ghany",
      "photoUrl": "https://lh3.googleusercontent.com/a-/AOh14GgcCiC5ZrEN8nVzzekSp93Y6Xy8jjuotS-NQMVfBA=s64",
      "userId": "13681952602611334172"
     },
     "user_tz": -60
    },
    "id": "VDPkNIVgH-qs",
    "outputId": "847bb8d5-892e-4514-d250-e6709591a9ad"
   },
   "outputs": [
    {
     "name": "stdout",
     "output_type": "stream",
     "text": [
      "epoch #0 train loss: tensor(1.2306, grad_fn=<MseLossBackward>) test loss: tensor(1.1340, grad_fn=<MseLossBackward>)\n",
      "epoch #300 train loss: tensor(0.0065, grad_fn=<MseLossBackward>) test loss: tensor(0.0041, grad_fn=<MseLossBackward>)\n",
      "epoch #600 train loss: tensor(0.0062, grad_fn=<MseLossBackward>) test loss: tensor(0.0039, grad_fn=<MseLossBackward>)\n",
      "epoch #900 train loss: tensor(0.0058, grad_fn=<MseLossBackward>) test loss: tensor(0.0037, grad_fn=<MseLossBackward>)\n",
      "epoch #1200 train loss: tensor(0.0044, grad_fn=<MseLossBackward>) test loss: tensor(0.0030, grad_fn=<MseLossBackward>)\n",
      "epoch #1500 train loss: tensor(0.0015, grad_fn=<MseLossBackward>) test loss: tensor(0.0012, grad_fn=<MseLossBackward>)\n",
      "epoch #1800 train loss: tensor(0.0007, grad_fn=<MseLossBackward>) test loss: tensor(0.0006, grad_fn=<MseLossBackward>)\n",
      "epoch #2100 train loss: tensor(0.0005, grad_fn=<MseLossBackward>) test loss: tensor(0.0005, grad_fn=<MseLossBackward>)\n",
      "epoch #2400 train loss: tensor(0.0004, grad_fn=<MseLossBackward>) test loss: tensor(0.0004, grad_fn=<MseLossBackward>)\n",
      "epoch #2700 train loss: tensor(0.0003, grad_fn=<MseLossBackward>) test loss: tensor(0.0004, grad_fn=<MseLossBackward>)\n",
      "epoch #3000 train loss: tensor(0.0003, grad_fn=<MseLossBackward>) test loss: tensor(0.0003, grad_fn=<MseLossBackward>)\n"
     ]
    }
   ],
   "source": [
    "train_loss_list, test_loss_list = [], []\n",
    "\n",
    "for i in range(3001):\n",
    "  model.train()\n",
    "  optimizer.zero_grad()\n",
    "  y_train_prediction = model(x_train)\n",
    "  train_loss = criterion(y_train_prediction, y_train)\n",
    "  train_loss.backward()\n",
    "  optimizer.step()\n",
    "  train_loss_list.append(train_loss.detach().item())\n",
    "    \n",
    "  model.eval()\n",
    "  y_test_prediction = model(x_test)\n",
    "  test_loss = criterion(y_test_prediction, y_test)\n",
    "  test_loss_list.append(test_loss.detach().item())\n",
    "    \n",
    "  if (i % 300) == 0:\n",
    "    print(\"epoch #\" + str(i) + \" train loss: \" + str(train_loss) + \" test loss: \" + str(test_loss))"
   ]
  },
  {
   "cell_type": "code",
   "execution_count": 8,
   "metadata": {},
   "outputs": [
    {
     "data": {
      "image/png": "[encoded data removed]",
      "text/plain": [
       "<Figure size 432x288 with 1 Axes>"
      ]
     },
     "metadata": {
      "needs_background": "light"
     },
     "output_type": "display_data"
    }
   ],
   "source": [
    "plt.title('Train and Test loss error')\n",
    "plt.plot(train_loss_list, label=\"train loss\")\n",
    "plt.plot(test_loss_list, label=\"test loss\")\n",
    "plt.yscale('log')\n",
    "plt.xlabel(\"# Epoch\")\n",
    "plt.ylabel(\"Loss\")\n",
    "plt.legend(loc='best')\n",
    "plt.show()"
   ]
  },
  {
   "cell_type": "code",
   "execution_count": 9,
   "metadata": {
    "colab": {
     "base_uri": "https://localhost:8080/"
    },
    "executionInfo": {
     "elapsed": 653,
     "status": "ok",
     "timestamp": 1608125060693,
     "user": {
      "displayName": "Mukhlish Ghany",
      "photoUrl": "https://lh3.googleusercontent.com/a-/AOh14GgcCiC5ZrEN8nVzzekSp93Y6Xy8jjuotS-NQMVfBA=s64",
      "userId": "13681952602611334172"
     },
     "user_tz": -60
    },
    "id": "Sa259-ZjIAo3",
    "outputId": "ba394180-4ad6-42ac-f17b-7c2e57c3786c"
   },
   "outputs": [
    {
     "name": "stdout",
     "output_type": "stream",
     "text": [
      "train output: \n",
      "tensor([[ 68.1540,  22.9530, 163.0000,   5.9100,  85.0000, -11.2270],\n",
      "        [ 65.1980,  28.6150, 163.0000,   6.4940,  85.0000, -11.0550],\n",
      "        [ 73.8900,  24.5100, 163.0000,   6.4930,  85.0000,  -9.9470]])\n",
      "train output prediction: \n",
      "tensor([[ 67.9708,  26.5528, 163.5216,   5.6531,  85.1480, -11.6428],\n",
      "        [ 65.3024,  26.9993, 162.0398,   6.4366,  84.9023, -10.8083],\n",
      "        [ 73.7839,  27.0943, 163.1543,   6.4837,  85.0133, -11.0186]],\n",
      "       grad_fn=<SliceBackward>)\n",
      "train loss: 0.0002883441629819572\n",
      "----------------------------------------------------------------------\n",
      "test output: \n",
      "tensor([[ 59.7800,  27.1710, 163.0000,   5.1010,  85.0000, -12.4110],\n",
      "        [ 84.1720,  25.8880, 163.0000,   5.7580,  85.0000, -11.0430],\n",
      "        [ 63.1330,  26.1500, 163.0000,   6.5280,  85.0000, -10.5690]])\n",
      "test output prediction: \n",
      "tensor([[ 59.7595,  26.3312, 162.7504,   5.3903,  85.0980, -11.6482],\n",
      "        [ 84.0142,  27.1939, 164.5346,   6.5152,  85.1538, -11.2968],\n",
      "        [ 63.1424,  26.8760, 161.9911,   6.2587,  84.9178, -10.9144]],\n",
      "       grad_fn=<SliceBackward>)\n",
      "test loss: 0.0003301819378975779\n"
     ]
    }
   ],
   "source": [
    "y_train_prediction = model.forward(x_train)\n",
    "train_loss = torch.mean((y_train - y_train_prediction)**2).detach().item()\n",
    "\n",
    "print(\"train output: \\n\" + str(denormalize_output(y_train, y_mean, y_std)[:3]))\n",
    "print(\"train output prediction: \\n\" + str(denormalize_output(y_train_prediction, y_mean, y_std)[:3]))\n",
    "print(\"train loss: \" + str(train_loss))\n",
    "\n",
    "print(\"----------------------------------------------------------------------\")\n",
    "\n",
    "y_test_prediction = model.forward(x_test)\n",
    "test_loss = torch.mean((y_test - y_test_prediction)**2).detach().item()\n",
    "\n",
    "print(\"test output: \\n\" + str(denormalize_output(y_test, y_mean, y_std)[-3:]))\n",
    "print(\"test output prediction: \\n\" + str(denormalize_output(y_test_prediction, y_mean, y_std)[-3:]))\n",
    "print(\"test loss: \" + str(test_loss))"
   ]
  },
  {
   "cell_type": "markdown",
   "metadata": {
    "id": "WEpFganmICI1"
   },
   "source": [
    "# NN 2 layer"
   ]
  },
  {
   "cell_type": "code",
   "execution_count": 10,
   "metadata": {
    "colab": {
     "base_uri": "https://localhost:8080/"
    },
    "executionInfo": {
     "elapsed": 699,
     "status": "ok",
     "timestamp": 1608125096000,
     "user": {
      "displayName": "Mukhlish Ghany",
      "photoUrl": "https://lh3.googleusercontent.com/a-/AOh14GgcCiC5ZrEN8nVzzekSp93Y6Xy8jjuotS-NQMVfBA=s64",
      "userId": "13681952602611334172"
     },
     "user_tz": -60
    },
    "id": "G4D8M2RyY9YF",
    "outputId": "84e40add-198f-4472-8d97-3d330454f683"
   },
   "outputs": [
    {
     "name": "stdout",
     "output_type": "stream",
     "text": [
      "Sequential(\n",
      "  (0): Linear(in_features=12, out_features=32, bias=True)\n",
      "  (1): ReLU()\n",
      "  (2): Linear(in_features=32, out_features=16, bias=True)\n",
      "  (3): ReLU()\n",
      "  (4): Linear(in_features=16, out_features=6, bias=True)\n",
      ")\n"
     ]
    }
   ],
   "source": [
    "input_size = 12\n",
    "hidden_layer = [32, 16]\n",
    "output_size = 6\n",
    "\n",
    "model = nn.Sequential(\n",
    "    nn.Linear(input_size, hidden_layer[0]),\n",
    "    nn.ReLU(),\n",
    "    nn.Linear(hidden_layer[0], hidden_layer[1]),\n",
    "    nn.ReLU(),\n",
    "    nn.Linear(hidden_layer[1], output_size)\n",
    ")\n",
    "\n",
    "print(model)\n",
    "criterion = nn.MSELoss()\n",
    "optimizer = optim.Adam(model.parameters(), lr=0.005)"
   ]
  },
  {
   "cell_type": "code",
   "execution_count": 11,
   "metadata": {},
   "outputs": [
    {
     "name": "stdout",
     "output_type": "stream",
     "text": [
      "epoch #0 train loss: tensor(1.0065, grad_fn=<MseLossBackward>) test loss: tensor(0.9308, grad_fn=<MseLossBackward>)\n",
      "epoch #100 train loss: tensor(0.0070, grad_fn=<MseLossBackward>) test loss: tensor(0.0046, grad_fn=<MseLossBackward>)\n",
      "epoch #200 train loss: tensor(0.0067, grad_fn=<MseLossBackward>) test loss: tensor(0.0045, grad_fn=<MseLossBackward>)\n",
      "epoch #300 train loss: tensor(0.0062, grad_fn=<MseLossBackward>) test loss: tensor(0.0043, grad_fn=<MseLossBackward>)\n",
      "epoch #400 train loss: tensor(0.0053, grad_fn=<MseLossBackward>) test loss: tensor(0.0039, grad_fn=<MseLossBackward>)\n",
      "epoch #500 train loss: tensor(0.0033, grad_fn=<MseLossBackward>) test loss: tensor(0.0029, grad_fn=<MseLossBackward>)\n",
      "epoch #600 train loss: tensor(0.0011, grad_fn=<MseLossBackward>) test loss: tensor(0.0011, grad_fn=<MseLossBackward>)\n",
      "epoch #700 train loss: tensor(0.0004, grad_fn=<MseLossBackward>) test loss: tensor(0.0005, grad_fn=<MseLossBackward>)\n",
      "epoch #800 train loss: tensor(0.0003, grad_fn=<MseLossBackward>) test loss: tensor(0.0004, grad_fn=<MseLossBackward>)\n",
      "epoch #900 train loss: tensor(0.0003, grad_fn=<MseLossBackward>) test loss: tensor(0.0003, grad_fn=<MseLossBackward>)\n",
      "epoch #1000 train loss: tensor(0.0003, grad_fn=<MseLossBackward>) test loss: tensor(0.0003, grad_fn=<MseLossBackward>)\n"
     ]
    }
   ],
   "source": [
    "train_loss_list, test_loss_list = [], []\n",
    "\n",
    "for i in range(1001):\n",
    "  model.train()\n",
    "  optimizer.zero_grad()\n",
    "  y_train_prediction = model(x_train)\n",
    "  train_loss = criterion(y_train_prediction, y_train)\n",
    "  train_loss.backward()\n",
    "  optimizer.step()\n",
    "  train_loss_list.append(train_loss.detach().item())\n",
    "    \n",
    "  model.eval()\n",
    "  y_test_prediction = model(x_test)\n",
    "  test_loss = criterion(y_test_prediction, y_test)\n",
    "  test_loss_list.append(test_loss.detach().item())\n",
    "    \n",
    "  if (i % 100) == 0:\n",
    "    print(\"epoch #\" + str(i) + \" train loss: \" + str(train_loss) + \" test loss: \" + str(test_loss))"
   ]
  },
  {
   "cell_type": "code",
   "execution_count": 12,
   "metadata": {},
   "outputs": [
    {
     "data": {
      "image/png": "[encoded data removed]",
      "text/plain": [
       "<Figure size 432x288 with 1 Axes>"
      ]
     },
     "metadata": {
      "needs_background": "light"
     },
     "output_type": "display_data"
    }
   ],
   "source": [
    "plt.title('Train and Test loss error')\n",
    "plt.plot(train_loss_list, label=\"train loss\")\n",
    "plt.plot(test_loss_list, label=\"test loss\")\n",
    "plt.yscale('log')\n",
    "plt.xlabel(\"# Epoch\")\n",
    "plt.ylabel(\"Loss\")\n",
    "plt.legend(loc='best')\n",
    "plt.show()"
   ]
  },
  {
   "cell_type": "code",
   "execution_count": 13,
   "metadata": {
    "colab": {
     "base_uri": "https://localhost:8080/"
    },
    "executionInfo": {
     "elapsed": 683,
     "status": "ok",
     "timestamp": 1608125102166,
     "user": {
      "displayName": "Mukhlish Ghany",
      "photoUrl": "https://lh3.googleusercontent.com/a-/AOh14GgcCiC5ZrEN8nVzzekSp93Y6Xy8jjuotS-NQMVfBA=s64",
      "userId": "13681952602611334172"
     },
     "user_tz": -60
    },
    "id": "XiHjy8A7EHNr",
    "outputId": "11e64712-0219-4f6b-e3a0-07d46aafe256"
   },
   "outputs": [
    {
     "name": "stdout",
     "output_type": "stream",
     "text": [
      "train output: \n",
      "tensor([[ 68.1540,  22.9530, 163.0000,   5.9100,  85.0000, -11.2270],\n",
      "        [ 65.1980,  28.6150, 163.0000,   6.4940,  85.0000, -11.0550],\n",
      "        [ 73.8900,  24.5100, 163.0000,   6.4930,  85.0000,  -9.9470]])\n",
      "train output prediction: \n",
      "tensor([[ 67.6468,  26.3182, 163.5945,   5.9331,  85.6119, -11.6476],\n",
      "        [ 65.0710,  27.0614, 162.7308,   6.3084,  84.6595, -10.8957],\n",
      "        [ 73.4123,  27.0978, 163.0833,   6.3914,  85.1754, -10.9276]],\n",
      "       grad_fn=<SliceBackward>)\n",
      "train loss: 0.00026617312687449157\n",
      "----------------------------------------------------------------------\n",
      "test output: \n",
      "tensor([[ 59.7800,  27.1710, 163.0000,   5.1010,  85.0000, -12.4110],\n",
      "        [ 84.1720,  25.8880, 163.0000,   5.7580,  85.0000, -11.0430],\n",
      "        [ 63.1330,  26.1500, 163.0000,   6.5280,  85.0000, -10.5690]])\n",
      "test output prediction: \n",
      "tensor([[ 59.6129,  26.1612, 163.4684,   5.7435,  85.2200, -11.7098],\n",
      "        [ 83.7636,  27.1053, 163.5450,   6.6776,  85.4633, -11.1597],\n",
      "        [ 62.8795,  26.9012, 163.0712,   6.0351,  84.7999, -10.9499]],\n",
      "       grad_fn=<SliceBackward>)\n",
      "test loss: 0.00032098908559419215\n"
     ]
    }
   ],
   "source": [
    "y_train_prediction = model.forward(x_train)\n",
    "train_loss = torch.mean((y_train - y_train_prediction)**2).detach().item()\n",
    "\n",
    "print(\"train output: \\n\" + str(denormalize_output(y_train, y_mean, y_std)[:3]))\n",
    "print(\"train output prediction: \\n\" + str(denormalize_output(y_train_prediction, y_mean, y_std)[:3]))\n",
    "print(\"train loss: \" + str(train_loss))\n",
    "\n",
    "print(\"----------------------------------------------------------------------\")\n",
    "\n",
    "y_test_prediction = model.forward(x_test)\n",
    "test_loss = torch.mean((y_test - y_test_prediction)**2).detach().item()\n",
    "\n",
    "print(\"test output: \\n\" + str(denormalize_output(y_test, y_mean, y_std)[-3:]))\n",
    "print(\"test output prediction: \\n\" + str(denormalize_output(y_test_prediction, y_mean, y_std)[-3:]))\n",
    "print(\"test loss: \" + str(test_loss))"
   ]
  },
  {
   "cell_type": "code",
   "execution_count": 14,
   "metadata": {
    "colab": {
     "base_uri": "https://localhost:8080/"
    },
    "executionInfo": {
     "elapsed": 544,
     "status": "ok",
     "timestamp": 1607975117054,
     "user": {
      "displayName": "mukhlishghany",
      "photoUrl": "",
      "userId": "13681952602611334172"
     },
     "user_tz": -60
    },
    "id": "Cio0PV67CAlj",
    "outputId": "92ac944f-933c-4eca-db32-b7608ca6fe2e"
   },
   "outputs": [
    {
     "name": "stdout",
     "output_type": "stream",
     "text": [
      "0.weight\n",
      "tensor([[ 6.2253e-03,  2.7349e-01,  1.3272e-01, -2.8062e-01, -5.0754e-02,\n",
      "         -8.3531e-02, -7.1097e-02, -7.2658e-03, -8.9633e-02,  1.5575e-01,\n",
      "         -2.8461e-01,  2.1065e-01],\n",
      "        [ 3.3196e-02,  1.9445e-01,  8.4777e-02,  1.9898e-01, -2.8434e-01,\n",
      "          1.5037e-01,  5.7880e-02,  1.8924e-01,  2.7001e-01,  2.6727e-01,\n",
      "          1.4412e-01,  2.5959e-01],\n",
      "        [ 3.3896e-02,  1.9374e-01,  4.5880e-02, -2.6492e-01, -5.8033e-02,\n",
      "         -1.2838e-01,  8.0727e-02, -7.9638e-02, -1.7473e-01, -1.6817e-01,\n",
      "         -1.5333e-01,  2.4265e-01],\n",
      "        [-3.0820e-02,  1.3731e-01, -1.3963e-01,  7.2771e-02, -2.7436e-01,\n",
      "          3.7404e-02, -2.1818e-01,  2.3559e-01, -1.7463e-01,  2.5738e-01,\n",
      "          1.0173e-01,  1.4840e-01],\n",
      "        [-2.7282e-01,  2.6352e-01, -1.5328e-01,  9.8202e-02, -5.6618e-02,\n",
      "          7.6917e-02,  1.7375e-01, -3.2146e-02, -2.2856e-01, -1.5701e-01,\n",
      "          2.0123e-01,  6.5754e-02],\n",
      "        [-2.9737e-01,  4.1019e-02,  1.6415e-01,  1.6114e-01,  7.7608e-02,\n",
      "          4.4203e-02, -3.4825e-01, -2.4871e-01,  8.7757e-02, -1.6568e-02,\n",
      "         -2.0472e-01, -1.9724e-01],\n",
      "        [-1.0655e-01,  2.1227e-01, -1.2137e-01,  1.9234e-01, -2.4934e-01,\n",
      "          1.0327e-01, -2.3768e-01,  9.3954e-02, -1.3881e-01,  2.0716e-01,\n",
      "         -2.2133e-01,  2.8711e-01],\n",
      "        [ 2.6579e-01,  1.0740e-01,  3.5119e-01, -3.0088e-01,  1.9905e-01,\n",
      "         -2.4650e-01,  1.8428e-01, -3.0265e-02,  3.3405e-01, -1.7245e-01,\n",
      "          1.2288e-01,  2.2702e-01],\n",
      "        [-2.0178e-01,  2.6451e-01, -2.8303e-01, -2.1994e-02, -6.8336e-02,\n",
      "         -8.7009e-02,  2.8631e-01, -1.8056e-01,  1.0992e-02,  1.5139e-02,\n",
      "          1.0222e-01, -6.6200e-02],\n",
      "        [ 2.2132e-01,  2.6700e-01, -1.6766e-01, -8.7787e-02, -2.0521e-01,\n",
      "          1.6825e-01, -2.6748e-01, -9.6607e-02, -1.3450e-01,  3.1584e-02,\n",
      "         -9.5887e-02,  2.2137e-01],\n",
      "        [ 1.0905e-02, -1.2235e-02,  1.8646e-01, -1.0204e-01,  1.4792e-01,\n",
      "         -2.2674e-01,  4.5290e-02, -1.6511e-01,  2.9782e-01, -3.1292e-01,\n",
      "         -1.2384e-01, -3.2938e-01],\n",
      "        [ 3.0274e-01, -4.8385e-02,  1.2809e-01, -4.2725e-02, -1.4552e-01,\n",
      "          2.0497e-02,  6.2443e-02, -7.6997e-02, -4.2207e-02, -1.4130e-01,\n",
      "          3.2010e-03, -7.0521e-02],\n",
      "        [ 1.9404e-01,  1.8354e-01,  1.6846e-01, -1.3524e-01,  1.4734e-01,\n",
      "         -1.0730e-01, -9.5433e-02, -1.1670e-01, -8.2605e-02, -1.6854e-01,\n",
      "          2.8692e-01, -1.3462e-01],\n",
      "        [-2.3709e-03, -2.5178e-01,  4.2200e-03,  3.3841e-02,  2.2823e-02,\n",
      "          3.5840e-01, -4.0965e-01, -3.7258e-01, -1.4897e-01,  4.0994e-01,\n",
      "          1.5038e-01,  2.2911e-03],\n",
      "        [-8.6569e-02, -3.3242e-01,  1.0492e-01, -1.6766e-01,  1.7519e-01,\n",
      "         -1.1559e-01, -9.9543e-02,  1.1704e-01,  3.1995e-01, -1.1577e-01,\n",
      "         -2.5904e-01, -1.9508e-01],\n",
      "        [ 8.5063e-02,  2.9365e-01,  8.1991e-02, -1.1730e-01, -2.5088e-01,\n",
      "          3.5006e-01, -9.5777e-03, -3.5862e-02,  3.7605e-02,  2.5238e-01,\n",
      "          1.8023e-01,  2.4336e-02],\n",
      "        [-1.5941e-01, -1.2968e-01,  2.2482e-01,  3.1196e-02,  2.1012e-01,\n",
      "         -6.3373e-02,  9.3592e-02, -7.7130e-03, -2.6395e-02, -1.7785e-01,\n",
      "          8.1808e-02, -4.4160e-02],\n",
      "        [ 2.5278e-01,  2.2581e-01,  1.3327e-01, -2.5160e-01, -2.9594e-01,\n",
      "          1.5969e-01,  1.2377e-02, -2.5485e-01, -1.5607e-01, -1.0953e-01,\n",
      "         -1.5418e-01,  8.9993e-02],\n",
      "        [-2.7818e-01, -5.4407e-01, -4.4274e-01, -3.4860e-01, -5.0044e-01,\n",
      "         -3.7492e-01, -2.7007e-01, -4.1822e-01, -3.7875e-01, -3.5043e-01,\n",
      "         -5.1353e-01, -5.8150e-01],\n",
      "        [ 1.7773e-01, -4.4290e-02,  1.4891e-02, -2.3974e-01,  1.0694e-02,\n",
      "         -1.4695e-03, -2.0429e-01, -2.4565e-01, -2.3452e-01, -2.7436e-01,\n",
      "          2.3160e-01, -1.3922e-01],\n",
      "        [-1.9472e-01,  4.9177e-02,  4.7349e-02, -3.1841e-02, -7.9789e-02,\n",
      "         -4.5082e-02, -1.3482e-01, -2.3923e-01, -3.2792e-02, -2.3112e-01,\n",
      "         -2.8419e-01,  8.9002e-02],\n",
      "        [ 5.7746e-04, -1.4781e-01,  1.2248e-01,  1.1884e-02,  1.9499e-01,\n",
      "         -1.4248e-01,  1.2547e-01, -5.7811e-02,  2.8805e-01, -2.5096e-01,\n",
      "         -1.6033e-01,  5.3740e-02],\n",
      "        [-9.1432e-02, -3.1791e-02, -1.2486e-01, -4.0705e-02,  2.8909e-01,\n",
      "         -1.6049e-01,  7.2393e-03, -4.0915e-01,  1.6878e-01,  1.4747e-01,\n",
      "         -1.2673e-01, -1.8551e-01],\n",
      "        [ 1.6692e-01,  1.1658e-01,  9.1612e-02, -1.6042e-02, -2.8267e-01,\n",
      "         -1.6501e-01,  2.5819e-01,  5.3610e-02,  1.6045e-01,  2.0524e-01,\n",
      "         -1.0263e-01, -1.3813e-01],\n",
      "        [ 1.9626e-01, -9.1222e-02,  1.7236e-01, -1.8578e-01, -4.6271e-02,\n",
      "          3.8854e-02, -2.1222e-02,  2.2664e-01, -2.1288e-02,  7.1186e-02,\n",
      "          2.1799e-01, -2.8123e-01],\n",
      "        [ 6.1940e-02,  1.9378e-01, -4.2699e-02,  4.2380e-02,  1.7557e-01,\n",
      "          1.0981e-01, -8.0305e-02,  2.3599e-01, -1.4914e-01,  2.0282e-01,\n",
      "          2.7632e-01,  1.9876e-01],\n",
      "        [ 7.9322e-02, -1.4810e-01,  2.1728e-01, -1.8853e-02, -2.3058e-01,\n",
      "          1.7184e-01,  3.9169e-02,  1.8937e-01, -7.4876e-02,  2.5611e-02,\n",
      "          7.6265e-02, -1.4801e-01],\n",
      "        [-7.5376e-02,  4.8082e-02,  1.5512e-01,  6.5577e-02,  1.3340e-01,\n",
      "         -1.2299e-01, -2.4724e-01, -1.9163e-01,  2.0786e-01, -1.3767e-01,\n",
      "         -3.2416e-01, -9.5152e-03],\n",
      "        [ 3.3762e-03, -1.7053e-01, -2.1604e-01,  2.1697e-01,  7.1883e-02,\n",
      "          2.4578e-01, -1.8755e-01,  2.5949e-01, -5.7702e-02, -9.5333e-03,\n",
      "          1.0778e-01, -1.6183e-01],\n",
      "        [-1.0694e-01, -1.1365e-01,  1.6127e-01, -3.1070e-01,  1.3835e-01,\n",
      "         -2.8419e-01, -1.3443e-01, -1.4111e-01, -5.7229e-02, -2.2344e-01,\n",
      "          3.6150e-02, -2.1461e-01],\n",
      "        [-9.3963e-02, -1.5740e-01,  3.1404e-02,  3.4867e-02, -1.3022e-01,\n",
      "          1.9146e-02,  2.4696e-01, -2.0476e-02, -1.8818e-01, -2.6787e-01,\n",
      "          2.4319e-01,  1.1391e-01],\n",
      "        [ 2.6426e-01,  2.4684e-01, -1.1490e-01, -2.3717e-02,  3.8908e-03,\n",
      "          1.6146e-01, -3.9917e-02, -2.2713e-01,  2.2013e-01,  2.1125e-01,\n",
      "          4.9003e-02,  2.4855e-01]])\n",
      "0.bias\n",
      "tensor([-0.0967, -0.2624,  0.0233, -0.2028, -0.1727,  0.3414, -0.1548,  0.1475,\n",
      "         0.2117, -0.2090,  0.0185, -0.4078, -0.3089,  0.1781,  0.2105,  0.0794,\n",
      "         0.1150,  0.2499,  0.2910, -0.2148,  0.1358, -0.0687,  0.2382, -0.2500,\n",
      "        -0.1026, -0.0556, -0.2723,  0.4354,  0.1145,  0.2669,  0.2795, -0.0542])\n",
      "2.weight\n",
      "tensor([[-1.7334e-03,  1.5734e-01, -3.7507e-02, -4.5235e-02, -4.2973e-02,\n",
      "         -1.5677e-01, -5.5525e-02, -6.6883e-02, -6.2381e-02, -2.5041e-02,\n",
      "         -1.0418e-01,  1.0624e-01, -9.1364e-02,  4.0259e-02,  1.2581e-01,\n",
      "         -1.4232e-01,  1.5266e-01,  1.0314e-01, -1.3476e-01, -1.6508e-01,\n",
      "          1.2800e-02, -2.9570e-02, -6.0007e-03,  1.6219e-02,  2.2518e-02,\n",
      "          9.4270e-02, -1.0327e-01,  6.2934e-02,  2.3115e-02, -1.1918e-01,\n",
      "          1.1164e-02, -1.0894e-01],\n",
      "        [-1.2714e-01, -1.7732e-02, -1.7433e-01,  1.3967e-01,  1.5683e-01,\n",
      "         -1.2825e-01,  1.2854e-01,  6.4455e-02,  1.2218e-01, -4.9111e-02,\n",
      "         -8.9141e-03,  5.0603e-02, -2.4158e-02, -7.6835e-02, -5.0736e-02,\n",
      "          9.9971e-02, -1.3912e-01,  5.6831e-02, -5.8741e-02,  1.3547e-01,\n",
      "         -1.7415e-01, -9.1283e-02,  1.2419e-01, -4.5469e-02,  1.4772e-01,\n",
      "          7.8107e-02,  5.4189e-02, -1.2754e-01, -1.0853e-01, -1.7052e-01,\n",
      "         -1.0021e-01, -7.6914e-02],\n",
      "        [ 1.0394e-02, -3.5411e-02, -6.3843e-02,  8.0373e-02, -5.9250e-02,\n",
      "          7.5359e-02,  2.9718e-02,  4.7297e-02,  3.2381e-02, -1.4684e-03,\n",
      "         -8.7434e-02,  1.7353e-01, -4.7985e-02, -1.6256e-01, -1.0712e-01,\n",
      "         -7.1085e-02,  1.4502e-01, -2.4017e-02, -1.0460e-01, -1.5977e-01,\n",
      "         -1.6163e-01, -8.6400e-02,  1.6956e-01, -1.0694e-01, -8.2293e-02,\n",
      "         -7.9886e-02, -8.3699e-02, -1.2108e-01, -7.1999e-02, -1.6962e-01,\n",
      "         -5.3061e-03,  1.2300e-01],\n",
      "        [ 1.2613e-01, -1.4146e-01,  6.2481e-02,  5.2787e-03, -1.0646e-01,\n",
      "         -1.4932e-01,  1.3372e-01, -1.6311e-01, -8.2796e-02, -1.8634e-02,\n",
      "         -1.5635e-01, -1.4301e-01,  1.2901e-01, -1.1298e-01, -3.2677e-02,\n",
      "          1.6519e-01,  8.1468e-02, -1.6846e-01,  4.6137e-02, -6.6285e-02,\n",
      "         -1.0732e-01, -1.2648e-01,  3.9005e-02,  5.9354e-02, -1.5443e-01,\n",
      "          1.1033e-01,  5.7015e-03, -1.3694e-01, -1.4859e-01,  1.7207e-01,\n",
      "         -9.9968e-03,  3.2512e-02],\n",
      "        [ 4.1291e-03, -8.8596e-02, -1.4301e-01, -1.4959e-01,  9.3083e-02,\n",
      "         -6.6220e-02, -5.3540e-03, -1.0625e-01,  1.7405e-01, -1.2377e-01,\n",
      "         -3.4160e-02, -1.2011e-01, -1.5088e-01, -1.2810e-01, -9.3861e-02,\n",
      "          2.5933e-03, -1.0785e-01, -1.3170e-02,  7.2177e-02, -1.2082e-01,\n",
      "         -4.7935e-02,  8.7472e-02, -1.4645e-01, -1.4896e-01, -1.5298e-01,\n",
      "         -9.3496e-02,  9.5775e-02,  9.2433e-03,  3.6208e-02,  1.5060e-01,\n",
      "          6.9985e-02, -8.7342e-02],\n",
      "        [-4.3853e-02,  8.2121e-02,  3.3478e-03, -1.2131e-01,  1.0242e-01,\n",
      "         -3.0782e-02,  1.0975e-01, -1.5514e-01, -1.7645e-01,  1.6175e-01,\n",
      "         -6.4457e-02, -4.3910e-02,  3.9276e-02, -2.0142e-02, -1.0553e-01,\n",
      "         -4.8011e-02, -8.3052e-03, -1.3727e-01, -1.6959e-01, -1.1858e-01,\n",
      "          6.5898e-02, -1.3059e-01, -6.2446e-02, -3.3571e-02,  1.2347e-01,\n",
      "          1.6521e-01, -1.2799e-01,  9.4792e-02, -1.0666e-01, -1.3209e-01,\n",
      "         -1.4094e-01,  2.5561e-02],\n",
      "        [ 1.0262e-01, -8.1682e-03,  1.7375e-01, -6.4469e-02, -7.6262e-02,\n",
      "          1.1594e-01, -5.6308e-02,  2.6473e-01, -7.5142e-02,  1.5284e-01,\n",
      "          2.5333e-01,  1.2248e-01,  1.8502e-01, -1.8462e-01,  1.0382e-01,\n",
      "         -1.9036e-02,  2.0002e-01, -1.3029e-01, -4.9360e-02,  4.4763e-03,\n",
      "         -1.8307e-01,  2.4664e-01,  3.2638e-02, -1.7770e-02,  2.9121e-02,\n",
      "          4.3539e-03, -1.1738e-02, -3.2796e-02, -1.1168e-01,  1.4258e-01,\n",
      "         -5.6863e-02, -1.0798e-01],\n",
      "        [ 3.8146e-02, -2.3763e-02, -6.5131e-02,  1.3252e-01,  1.5232e-01,\n",
      "         -1.4096e-01,  6.9978e-02,  5.5524e-01, -1.5102e-01,  2.9218e-02,\n",
      "          1.2352e-01, -7.3151e-02,  2.0533e-01, -9.7824e-02,  9.3867e-02,\n",
      "         -1.1752e-01,  2.9278e-01,  1.2905e-01, -1.1579e+00, -1.3288e-01,\n",
      "         -1.5951e-01,  2.4373e-01,  4.4436e-02,  1.4998e-02,  1.3776e-01,\n",
      "         -9.2709e-02, -1.4967e-01, -1.2221e-01, -1.3911e-01,  1.1368e-01,\n",
      "         -6.7999e-03,  3.8227e-03],\n",
      "        [ 1.5875e-01,  1.3319e-01,  2.7009e-02, -1.0076e-01, -1.2743e-02,\n",
      "          1.2284e-01, -9.3241e-02, -6.6336e-02,  7.0199e-02, -1.5702e-01,\n",
      "         -1.2548e-01, -1.8687e-02, -1.1155e-02, -1.2537e-01, -7.2203e-02,\n",
      "          3.0100e-02, -1.7333e-01,  1.0721e-01,  5.3403e-02,  8.1229e-02,\n",
      "          4.6119e-02,  4.7034e-02, -5.0160e-02, -8.3969e-02,  1.0868e-01,\n",
      "         -1.1940e-01, -5.1037e-02, -2.8403e-03, -3.4877e-02,  8.1967e-02,\n",
      "         -5.9963e-02, -1.2226e-01],\n",
      "        [-1.0764e-01,  3.8285e-02,  1.4792e-01, -4.2039e-02,  3.0547e-02,\n",
      "         -3.9382e-02, -1.7323e-01, -1.1648e-01,  1.3141e-01, -6.1410e-02,\n",
      "          1.1485e-03,  1.2489e-01,  9.9937e-02, -6.6099e-02, -1.4418e-01,\n",
      "          1.0614e-01, -1.3536e-01,  3.9409e-02, -1.7096e-01, -8.3657e-02,\n",
      "          2.2375e-02,  1.4066e-01,  1.3664e-01,  1.6157e-01,  1.1065e-01,\n",
      "          5.6328e-02, -1.1716e-01, -1.0813e-01,  2.5735e-02, -8.6815e-02,\n",
      "         -1.6083e-01, -1.1854e-01],\n",
      "        [-4.7723e-02,  1.4823e-01, -1.2189e-01,  7.5518e-02, -1.3261e-01,\n",
      "         -1.7626e-01, -1.5671e-01, -4.4582e-02, -3.9633e-02,  1.1329e-01,\n",
      "         -6.5550e-02,  8.6145e-02, -1.0318e-01, -8.2955e-02,  1.2065e-01,\n",
      "         -1.3637e-01, -5.8163e-03, -1.2936e-01,  3.6527e-02,  4.1239e-02,\n",
      "         -8.0342e-02, -1.2252e-02,  1.0379e-01, -1.1049e-01,  3.1502e-02,\n",
      "          4.8363e-02,  6.9875e-02, -1.3126e-01, -1.7623e-01, -1.3592e-01,\n",
      "         -3.9430e-02,  3.4484e-02],\n",
      "        [-1.2908e-01, -1.4323e-01, -1.1896e-01,  1.5236e-01, -7.6926e-02,\n",
      "         -8.4058e-04, -7.0282e-02, -2.1555e-01,  1.1980e-01, -1.2316e-01,\n",
      "         -9.2232e-02,  2.1797e-01, -7.6710e-04,  1.2433e-01,  1.1806e-01,\n",
      "          1.6036e-01,  2.3059e-01, -3.0783e-02,  3.8070e-01,  1.0485e-01,\n",
      "          2.4884e-01,  1.1370e-01,  2.1446e-01,  1.8180e-01, -1.5028e-01,\n",
      "         -4.8039e-02, -1.2495e-01,  2.3642e-01,  1.1299e-01, -5.5063e-02,\n",
      "         -4.8657e-02,  1.5221e-01],\n",
      "        [-7.0261e-02,  1.1238e-01,  4.9591e-03, -1.7282e-01,  1.5293e-01,\n",
      "          1.6985e-01,  1.4277e-02, -7.2981e-02,  1.2809e-01, -1.6195e-04,\n",
      "          2.0476e-01,  6.9335e-02,  6.3637e-02,  1.1807e-01, -5.4641e-02,\n",
      "          9.5665e-02,  7.0568e-02, -1.3552e-01,  2.1733e-01, -8.0964e-02,\n",
      "          1.5975e-01,  9.1121e-02,  9.8082e-02,  1.4205e-01, -1.3304e-01,\n",
      "         -7.5309e-02, -3.0922e-02,  1.7634e-01,  1.2460e-01,  2.2174e-01,\n",
      "          1.7575e-01, -5.9590e-02],\n",
      "        [ 2.2029e-02, -1.7229e-02,  5.0247e-02, -7.9643e-02, -7.7783e-02,\n",
      "          1.3035e-01, -3.0987e-02,  1.8439e-01,  1.3203e-02, -7.7614e-02,\n",
      "          1.6661e-01,  3.3217e-03, -8.6093e-02,  2.1377e-02,  2.1003e-01,\n",
      "         -3.6859e-02,  1.0103e-01,  1.0545e-01,  2.4917e-01, -8.4262e-02,\n",
      "          1.7285e-01,  1.2747e-01,  2.1252e-01, -1.2460e-01, -4.7963e-02,\n",
      "         -1.4399e-01, -1.1874e-01,  1.1160e-01,  5.9691e-02,  1.2330e-02,\n",
      "          8.5256e-02,  5.7470e-02],\n",
      "        [-1.3298e-01,  1.0983e-01,  1.2858e-01, -6.0537e-02, -4.3027e-02,\n",
      "          2.5264e-01, -3.5256e-02,  5.0256e-02,  1.7251e-01, -7.1212e-02,\n",
      "          1.7309e-01, -6.9115e-03,  1.8702e-02,  2.9049e-01,  1.0574e-01,\n",
      "         -9.1576e-02, -3.3539e-02,  5.8313e-02,  1.2434e-01, -1.3268e-01,\n",
      "          1.2714e-01, -8.0293e-03,  1.6667e-01, -3.2857e-02, -5.9108e-02,\n",
      "         -1.2458e-01,  4.2910e-02,  1.8683e-01,  1.0671e-01,  1.1452e-01,\n",
      "          1.4062e-01,  5.4008e-02],\n",
      "        [-8.4324e-02,  1.7145e-01,  1.8177e-02, -9.9162e-02,  2.2764e-03,\n",
      "         -1.5807e-01,  1.4195e-01, -1.6847e-01,  2.9367e-02, -7.2781e-02,\n",
      "         -1.7268e-01, -6.2170e-02, -9.1599e-02,  1.3022e-01, -1.0509e-01,\n",
      "         -8.1939e-03, -6.7239e-02, -1.0302e-01,  1.3235e-02,  1.0617e-01,\n",
      "          2.2859e-02,  7.8315e-03, -7.6523e-02, -1.2777e-01,  3.6920e-02,\n",
      "          1.6570e-01, -8.6209e-02,  1.4532e-01,  1.9135e-02, -8.6597e-03,\n",
      "          1.4486e-01,  6.2359e-02]])\n",
      "2.bias\n",
      "tensor([-0.0413,  0.0929, -0.0230, -0.0469,  0.1138, -0.0104,  0.0111, -0.0620,\n",
      "        -0.0081, -0.1376, -0.0258,  0.1540,  0.1335,  0.1816,  0.2262,  0.1355])\n",
      "4.weight\n",
      "tensor([[-0.0153, -0.2351,  0.2438, -0.0020,  0.0617,  0.1628,  0.4754,  0.7292,\n",
      "          0.0878,  0.1285,  0.2238, -0.3074, -0.0722,  0.0827, -0.1469,  0.0636],\n",
      "        [-0.1754,  0.1443, -0.0977,  0.2181, -0.2010, -0.0062, -0.1865,  0.1189,\n",
      "         -0.0618,  0.2482, -0.0797, -0.0228, -0.1559, -0.1645,  0.0955, -0.1408],\n",
      "        [ 0.1497,  0.1493,  0.0404, -0.0866,  0.0965, -0.0998,  0.0092, -0.0082,\n",
      "          0.0940,  0.1487,  0.1697,  0.3010,  0.2230,  0.1532,  0.3491,  0.1505],\n",
      "        [ 0.1801, -0.2085, -0.1957,  0.0666, -0.0266, -0.2482,  0.1636, -0.0046,\n",
      "         -0.2317, -0.1789, -0.1664, -0.1063, -0.1334, -0.2560,  0.0378, -0.1914],\n",
      "        [ 0.0262,  0.0826, -0.0116, -0.0439, -0.1331, -0.1940,  0.2516, -0.1058,\n",
      "         -0.0941,  0.1074,  0.2030,  0.0079, -0.0272,  0.1104,  0.0337, -0.1804],\n",
      "        [-0.1930, -0.2393, -0.0954,  0.0082,  0.1575,  0.1817, -0.2080,  0.1312,\n",
      "          0.2012, -0.1098,  0.2154,  0.0648, -0.2373, -0.1424,  0.0185,  0.1612]])\n",
      "4.bias\n",
      "tensor([-0.0096,  0.1306, -0.0999, -0.2392, -0.0871, -0.3567])\n"
     ]
    }
   ],
   "source": [
    "for name, param in model.named_parameters():\n",
    "    if param.requires_grad:\n",
    "        print(name)\n",
    "        print(param.data)"
   ]
  }
 ],
 "metadata": {
  "colab": {
   "authorship_tag": "ABX9TyMS0NWGLB55fFHmofcUy/LR",
   "collapsed_sections": [],
   "name": "[NN Framework] Regression 2 Layer.ipynb",
   "provenance": []
  },
  "kernelspec": {
   "display_name": "Python 3",
   "language": "python",
   "name": "python3"
  },
  "language_info": {
   "codemirror_mode": {
    "name": "ipython",
    "version": 3
   },
   "file_extension": ".py",
   "mimetype": "text/x-python",
   "name": "python",
   "nbconvert_exporter": "python",
   "pygments_lexer": "ipython3",
   "version": "3.8.3"
  }
 },
 "nbformat": 4,
 "nbformat_minor": 1
}
